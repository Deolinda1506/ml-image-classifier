{
  "cells": [
    {
      "cell_type": "markdown",
      "metadata": {
        "colab_type": "text",
        "id": "view-in-github"
      },
      "source": [
        "<a href=\"https://colab.research.google.com/github/Deolinda1506/ml-image-classifier/blob/main/ml-image-classifier.ipynb\" target=\"_parent\"><img src=\"https://colab.research.google.com/assets/colab-badge.svg\" alt=\"Open In Colab\"/></a>"
      ]
    },
    {
      "cell_type": "code",
      "execution_count": 1,
      "metadata": {
        "id": "b_oOIAxSexd9"
      },
      "outputs": [
        {
          "name": "stderr",
          "output_type": "stream",
          "text": [
            "2025-07-30 11:08:29.180530: I external/local_xla/xla/tsl/cuda/cudart_stub.cc:32] Could not find cuda drivers on your machine, GPU will not be used.\n",
            "2025-07-30 11:08:34.661261: I external/local_xla/xla/tsl/cuda/cudart_stub.cc:32] Could not find cuda drivers on your machine, GPU will not be used.\n",
            "2025-07-30 11:08:37.162166: E external/local_xla/xla/stream_executor/cuda/cuda_fft.cc:477] Unable to register cuFFT factory: Attempting to register factory for plugin cuFFT when one has already been registered\n",
            "WARNING: All log messages before absl::InitializeLog() is called are written to STDERR\n",
            "E0000 00:00:1753873721.821307   13473 cuda_dnn.cc:8310] Unable to register cuDNN factory: Attempting to register factory for plugin cuDNN when one has already been registered\n",
            "E0000 00:00:1753873722.724505   13473 cuda_blas.cc:1418] Unable to register cuBLAS factory: Attempting to register factory for plugin cuBLAS when one has already been registered\n",
            "2025-07-30 11:08:50.966428: I tensorflow/core/platform/cpu_feature_guard.cc:210] This TensorFlow binary is optimized to use available CPU instructions in performance-critical operations.\n",
            "To enable the following instructions: AVX2 FMA, in other operations, rebuild TensorFlow with the appropriate compiler flags.\n"
          ]
        }
      ],
      "source": [
        "\n",
        "# Import required libraries\n",
        "import os\n",
        "import sys\n",
        "import numpy as np\n",
        "import pandas as pd\n",
        "import matplotlib.pyplot as plt\n",
        "import seaborn as sns\n",
        "import tensorflow as tf\n",
        "from tensorflow.keras import layers, models, optimizers, callbacks\n",
        "from tensorflow.keras.applications import MobileNetV2\n",
        "from tensorflow.keras.preprocessing.image import ImageDataGenerator\n",
        "from sklearn.metrics import classification_report, confusion_matrix, accuracy_score, precision_score, recall_score, f1_score\n",
        "import cv2\n",
        "from PIL import Image\n",
        "import warnings\n",
        "sys.path.append('src')\n",
        "\n"
      ]
    },
    {
      "cell_type": "code",
      "execution_count": 2,
      "metadata": {},
      "outputs": [],
      "source": [
        "import sys\n",
        "sys.path.append('/workspaces/ml-image-classifier/src')\n",
        "from preprocessing import ImagePreprocessor\n",
        "from model import ImageClassifier\n",
        "from prediction import ImagePredictor"
      ]
    },
    {
      "cell_type": "code",
      "execution_count": 3,
      "metadata": {
        "colab": {
          "base_uri": "https://localhost:8080/"
        },
        "id": "6MpxNrS-gJYg",
        "outputId": "9a0cfc11-f567-4fc5-d822-12d6fe54019c"
      },
      "outputs": [
        {
          "name": "stdout",
          "output_type": "stream",
          "text": [
            "TensorFlow version: 2.18.0\n",
            "GPU available: []\n"
          ]
        },
        {
          "name": "stderr",
          "output_type": "stream",
          "text": [
            "2025-07-30 00:16:31.634786: E external/local_xla/xla/stream_executor/cuda/cuda_driver.cc:152] failed call to cuInit: INTERNAL: CUDA error: Failed call to cuInit: UNKNOWN ERROR (303)\n"
          ]
        }
      ],
      "source": [
        "print(\"TensorFlow version:\", tf.__version__)\n",
        "print(\"GPU available:\", tf.config.list_physical_devices('GPU'))"
      ]
    },
    {
      "cell_type": "markdown",
      "metadata": {
        "id": "-7gFHiDfBVNU"
      },
      "source": [
        "#Step 2: Data Preprocessing and Analysis"
      ]
    },
    {
      "cell_type": "code",
      "execution_count": 4,
      "metadata": {
        "id": "6H3CHnwrPN1h"
      },
      "outputs": [
        {
          "name": "stdout",
          "output_type": "stream",
          "text": [
            "\n",
            "==================================================\n",
            "1. DATA PREPROCESSING AND ANALYSIS\n",
            "==================================================\n",
            "Analyzing dataset...\n",
            "Dataset statistics:\n",
            "Total images: 20\n",
            "Class distribution: {'cat': 10, 'dog': 10}\n",
            "\n",
            "Loading dataset...\n",
            "Loaded 20 images\n",
            "Image shape: (20, 224, 224, 3)\n",
            "Labels shape: (20,)\n",
            "Unique labels: [0 1]\n",
            "\n",
            "Creating data generators...\n",
            "Training samples: 20\n",
            "Validation samples: 20 (using same data for compatibility)\n",
            "Number of classes: 2\n",
            "Class indices: {'cat': 0, 'dog': 1}\n",
            "Note: We'll use the separate test set for final evaluation\n"
          ]
        }
      ],
      "source": [
        "print(\"\\n\" + \"=\"*50)\n",
        "print(\"1. DATA PREPROCESSING AND ANALYSIS\")\n",
        "print(\"=\"*50)\n",
        "\n",
        "# Initialize preprocessor\n",
        "preprocessor = ImagePreprocessor()\n",
        "\n",
        "# Analyze dataset\n",
        "print(\"Analyzing dataset...\")\n",
        "dataset_stats = preprocessor.analyze_dataset('../data/train')\n",
        "print(\"Dataset statistics:\")\n",
        "print(f\"Total images: {dataset_stats['total_images']}\")\n",
        "print(f\"Class distribution: {dataset_stats['class_counts']}\")\n",
        "\n",
        "# Load and preprocess dataset\n",
        "print(\"\\nLoading dataset...\")\n",
        "images, labels, file_paths = preprocessor.load_dataset('../data/train')\n",
        "\n",
        "print(f\"Loaded {len(images)} images\")\n",
        "print(f\"Image shape: {images.shape}\")\n",
        "print(f\"Labels shape: {labels.shape}\")\n",
        "print(f\"Unique labels: {np.unique(labels)}\")\n",
        "\n",
        "# Create data generators with augmentation (no validation split since we have separate test set)\n",
        "print(\"\\nCreating data generators...\")\n",
        "train_generator, validation_generator = preprocessor.create_data_generators('../data/train', validation_split=0.0)\n",
        "\n",
        "if train_generator is None or validation_generator is None:\n",
        "    print(\"❌ Error: Could not create data generators. Check your data directory.\")\n",
        "    exit(1)\n",
        "\n",
        "print(f\"Training samples: {train_generator.samples}\")\n",
        "print(f\"Validation samples: {validation_generator.samples} (using same data for compatibility)\")\n",
        "print(f\"Number of classes: {train_generator.num_classes}\")\n",
        "print(f\"Class indices: {train_generator.class_indices}\")\n",
        "print(\"Note: We'll use the separate test set for final evaluation\")"
      ]
    },
    {
      "cell_type": "code",
      "execution_count": 5,
      "metadata": {
        "id": "8Ult8nYLPkVp"
      },
      "outputs": [
        {
          "name": "stdout",
          "output_type": "stream",
          "text": [
            "\n",
            "==================================================\n",
            "2. MODEL CREATION AND TRAINING\n",
            "==================================================\n",
            "Building model...\n"
          ]
        },
        {
          "name": "stdout",
          "output_type": "stream",
          "text": [
            "Model Summary:\n"
          ]
        },
        {
          "data": {
            "text/html": [
              "<pre style=\"white-space:pre;overflow-x:auto;line-height:normal;font-family:Menlo,'DejaVu Sans Mono',consolas,'Courier New',monospace\"><span style=\"font-weight: bold\">Model: \"sequential\"</span>\n",
              "</pre>\n"
            ],
            "text/plain": [
              "\u001b[1mModel: \"sequential\"\u001b[0m\n"
            ]
          },
          "metadata": {},
          "output_type": "display_data"
        },
        {
          "data": {
            "text/html": [
              "<pre style=\"white-space:pre;overflow-x:auto;line-height:normal;font-family:Menlo,'DejaVu Sans Mono',consolas,'Courier New',monospace\">┏━━━━━━━━━━━━━━━━━━━━━━━━━━━━━━━━━┳━━━━━━━━━━━━━━━━━━━━━━━━┳━━━━━━━━━━━━━━━┓\n",
              "┃<span style=\"font-weight: bold\"> Layer (type)                    </span>┃<span style=\"font-weight: bold\"> Output Shape           </span>┃<span style=\"font-weight: bold\">       Param # </span>┃\n",
              "┡━━━━━━━━━━━━━━━━━━━━━━━━━━━━━━━━━╇━━━━━━━━━━━━━━━━━━━━━━━━╇━━━━━━━━━━━━━━━┩\n",
              "│ mobilenetv2_1.00_224            │ (<span style=\"color: #00d7ff; text-decoration-color: #00d7ff\">None</span>, <span style=\"color: #00af00; text-decoration-color: #00af00\">7</span>, <span style=\"color: #00af00; text-decoration-color: #00af00\">7</span>, <span style=\"color: #00af00; text-decoration-color: #00af00\">1280</span>)     │     <span style=\"color: #00af00; text-decoration-color: #00af00\">2,257,984</span> │\n",
              "│ (<span style=\"color: #0087ff; text-decoration-color: #0087ff\">Functional</span>)                    │                        │               │\n",
              "├─────────────────────────────────┼────────────────────────┼───────────────┤\n",
              "│ global_average_pooling2d        │ (<span style=\"color: #00d7ff; text-decoration-color: #00d7ff\">None</span>, <span style=\"color: #00af00; text-decoration-color: #00af00\">1280</span>)           │             <span style=\"color: #00af00; text-decoration-color: #00af00\">0</span> │\n",
              "│ (<span style=\"color: #0087ff; text-decoration-color: #0087ff\">GlobalAveragePooling2D</span>)        │                        │               │\n",
              "├─────────────────────────────────┼────────────────────────┼───────────────┤\n",
              "│ dropout (<span style=\"color: #0087ff; text-decoration-color: #0087ff\">Dropout</span>)               │ (<span style=\"color: #00d7ff; text-decoration-color: #00d7ff\">None</span>, <span style=\"color: #00af00; text-decoration-color: #00af00\">1280</span>)           │             <span style=\"color: #00af00; text-decoration-color: #00af00\">0</span> │\n",
              "├─────────────────────────────────┼────────────────────────┼───────────────┤\n",
              "│ dense (<span style=\"color: #0087ff; text-decoration-color: #0087ff\">Dense</span>)                   │ (<span style=\"color: #00d7ff; text-decoration-color: #00d7ff\">None</span>, <span style=\"color: #00af00; text-decoration-color: #00af00\">512</span>)            │       <span style=\"color: #00af00; text-decoration-color: #00af00\">655,872</span> │\n",
              "├─────────────────────────────────┼────────────────────────┼───────────────┤\n",
              "│ dropout_1 (<span style=\"color: #0087ff; text-decoration-color: #0087ff\">Dropout</span>)             │ (<span style=\"color: #00d7ff; text-decoration-color: #00d7ff\">None</span>, <span style=\"color: #00af00; text-decoration-color: #00af00\">512</span>)            │             <span style=\"color: #00af00; text-decoration-color: #00af00\">0</span> │\n",
              "├─────────────────────────────────┼────────────────────────┼───────────────┤\n",
              "│ dense_1 (<span style=\"color: #0087ff; text-decoration-color: #0087ff\">Dense</span>)                 │ (<span style=\"color: #00d7ff; text-decoration-color: #00d7ff\">None</span>, <span style=\"color: #00af00; text-decoration-color: #00af00\">256</span>)            │       <span style=\"color: #00af00; text-decoration-color: #00af00\">131,328</span> │\n",
              "├─────────────────────────────────┼────────────────────────┼───────────────┤\n",
              "│ dropout_2 (<span style=\"color: #0087ff; text-decoration-color: #0087ff\">Dropout</span>)             │ (<span style=\"color: #00d7ff; text-decoration-color: #00d7ff\">None</span>, <span style=\"color: #00af00; text-decoration-color: #00af00\">256</span>)            │             <span style=\"color: #00af00; text-decoration-color: #00af00\">0</span> │\n",
              "├─────────────────────────────────┼────────────────────────┼───────────────┤\n",
              "│ dense_2 (<span style=\"color: #0087ff; text-decoration-color: #0087ff\">Dense</span>)                 │ (<span style=\"color: #00d7ff; text-decoration-color: #00d7ff\">None</span>, <span style=\"color: #00af00; text-decoration-color: #00af00\">2</span>)              │           <span style=\"color: #00af00; text-decoration-color: #00af00\">514</span> │\n",
              "└─────────────────────────────────┴────────────────────────┴───────────────┘\n",
              "</pre>\n"
            ],
            "text/plain": [
              "┏━━━━━━━━━━━━━━━━━━━━━━━━━━━━━━━━━┳━━━━━━━━━━━━━━━━━━━━━━━━┳━━━━━━━━━━━━━━━┓\n",
              "┃\u001b[1m \u001b[0m\u001b[1mLayer (type)                   \u001b[0m\u001b[1m \u001b[0m┃\u001b[1m \u001b[0m\u001b[1mOutput Shape          \u001b[0m\u001b[1m \u001b[0m┃\u001b[1m \u001b[0m\u001b[1m      Param #\u001b[0m\u001b[1m \u001b[0m┃\n",
              "┡━━━━━━━━━━━━━━━━━━━━━━━━━━━━━━━━━╇━━━━━━━━━━━━━━━━━━━━━━━━╇━━━━━━━━━━━━━━━┩\n",
              "│ mobilenetv2_1.00_224            │ (\u001b[38;5;45mNone\u001b[0m, \u001b[38;5;34m7\u001b[0m, \u001b[38;5;34m7\u001b[0m, \u001b[38;5;34m1280\u001b[0m)     │     \u001b[38;5;34m2,257,984\u001b[0m │\n",
              "│ (\u001b[38;5;33mFunctional\u001b[0m)                    │                        │               │\n",
              "├─────────────────────────────────┼────────────────────────┼───────────────┤\n",
              "│ global_average_pooling2d        │ (\u001b[38;5;45mNone\u001b[0m, \u001b[38;5;34m1280\u001b[0m)           │             \u001b[38;5;34m0\u001b[0m │\n",
              "│ (\u001b[38;5;33mGlobalAveragePooling2D\u001b[0m)        │                        │               │\n",
              "├─────────────────────────────────┼────────────────────────┼───────────────┤\n",
              "│ dropout (\u001b[38;5;33mDropout\u001b[0m)               │ (\u001b[38;5;45mNone\u001b[0m, \u001b[38;5;34m1280\u001b[0m)           │             \u001b[38;5;34m0\u001b[0m │\n",
              "├─────────────────────────────────┼────────────────────────┼───────────────┤\n",
              "│ dense (\u001b[38;5;33mDense\u001b[0m)                   │ (\u001b[38;5;45mNone\u001b[0m, \u001b[38;5;34m512\u001b[0m)            │       \u001b[38;5;34m655,872\u001b[0m │\n",
              "├─────────────────────────────────┼────────────────────────┼───────────────┤\n",
              "│ dropout_1 (\u001b[38;5;33mDropout\u001b[0m)             │ (\u001b[38;5;45mNone\u001b[0m, \u001b[38;5;34m512\u001b[0m)            │             \u001b[38;5;34m0\u001b[0m │\n",
              "├─────────────────────────────────┼────────────────────────┼───────────────┤\n",
              "│ dense_1 (\u001b[38;5;33mDense\u001b[0m)                 │ (\u001b[38;5;45mNone\u001b[0m, \u001b[38;5;34m256\u001b[0m)            │       \u001b[38;5;34m131,328\u001b[0m │\n",
              "├─────────────────────────────────┼────────────────────────┼───────────────┤\n",
              "│ dropout_2 (\u001b[38;5;33mDropout\u001b[0m)             │ (\u001b[38;5;45mNone\u001b[0m, \u001b[38;5;34m256\u001b[0m)            │             \u001b[38;5;34m0\u001b[0m │\n",
              "├─────────────────────────────────┼────────────────────────┼───────────────┤\n",
              "│ dense_2 (\u001b[38;5;33mDense\u001b[0m)                 │ (\u001b[38;5;45mNone\u001b[0m, \u001b[38;5;34m2\u001b[0m)              │           \u001b[38;5;34m514\u001b[0m │\n",
              "└─────────────────────────────────┴────────────────────────┴───────────────┘\n"
            ]
          },
          "metadata": {},
          "output_type": "display_data"
        },
        {
          "data": {
            "text/html": [
              "<pre style=\"white-space:pre;overflow-x:auto;line-height:normal;font-family:Menlo,'DejaVu Sans Mono',consolas,'Courier New',monospace\"><span style=\"font-weight: bold\"> Total params: </span><span style=\"color: #00af00; text-decoration-color: #00af00\">3,045,698</span> (11.62 MB)\n",
              "</pre>\n"
            ],
            "text/plain": [
              "\u001b[1m Total params: \u001b[0m\u001b[38;5;34m3,045,698\u001b[0m (11.62 MB)\n"
            ]
          },
          "metadata": {},
          "output_type": "display_data"
        },
        {
          "data": {
            "text/html": [
              "<pre style=\"white-space:pre;overflow-x:auto;line-height:normal;font-family:Menlo,'DejaVu Sans Mono',consolas,'Courier New',monospace\"><span style=\"font-weight: bold\"> Trainable params: </span><span style=\"color: #00af00; text-decoration-color: #00af00\">787,714</span> (3.00 MB)\n",
              "</pre>\n"
            ],
            "text/plain": [
              "\u001b[1m Trainable params: \u001b[0m\u001b[38;5;34m787,714\u001b[0m (3.00 MB)\n"
            ]
          },
          "metadata": {},
          "output_type": "display_data"
        },
        {
          "data": {
            "text/html": [
              "<pre style=\"white-space:pre;overflow-x:auto;line-height:normal;font-family:Menlo,'DejaVu Sans Mono',consolas,'Courier New',monospace\"><span style=\"font-weight: bold\"> Non-trainable params: </span><span style=\"color: #00af00; text-decoration-color: #00af00\">2,257,984</span> (8.61 MB)\n",
              "</pre>\n"
            ],
            "text/plain": [
              "\u001b[1m Non-trainable params: \u001b[0m\u001b[38;5;34m2,257,984\u001b[0m (8.61 MB)\n"
            ]
          },
          "metadata": {},
          "output_type": "display_data"
        },
        {
          "name": "stdout",
          "output_type": "stream",
          "text": [
            "\n",
            "Starting model training...\n",
            "Epoch 1/30\n"
          ]
        },
        {
          "name": "stderr",
          "output_type": "stream",
          "text": [
            "/usr/local/python/3.12.1/lib/python3.12/site-packages/keras/src/trainers/data_adapters/py_dataset_adapter.py:121: UserWarning: Your `PyDataset` class should call `super().__init__(**kwargs)` in its constructor. `**kwargs` can include `workers`, `use_multiprocessing`, `max_queue_size`. Do not pass these arguments to `fit()`, as they will be ignored.\n",
            "  self._warn_if_super_not_called()\n",
            "2025-07-30 00:16:57.028229: W external/local_xla/xla/tsl/framework/cpu_allocator_impl.cc:83] Allocation of 96337920 exceeds 10% of free system memory.\n",
            "2025-07-30 00:16:57.057149: W external/local_xla/xla/tsl/framework/cpu_allocator_impl.cc:83] Allocation of 98065920 exceeds 10% of free system memory.\n"
          ]
        },
        {
          "name": "stdout",
          "output_type": "stream",
          "text": [
            "\u001b[1m1/1\u001b[0m \u001b[32m━━━━━━━━━━━━━━━━━━━━\u001b[0m\u001b[37m\u001b[0m \u001b[1m0s\u001b[0m 5s/step - accuracy: 0.4500 - loss: 0.8333 - precision: 0.4500 - recall: 0.4500"
          ]
        },
        {
          "name": "stderr",
          "output_type": "stream",
          "text": [
            "2025-07-30 00:16:58.684811: W external/local_xla/xla/tsl/framework/cpu_allocator_impl.cc:83] Allocation of 96337920 exceeds 10% of free system memory.\n",
            "2025-07-30 00:16:58.713829: W external/local_xla/xla/tsl/framework/cpu_allocator_impl.cc:83] Allocation of 98065920 exceeds 10% of free system memory.\n"
          ]
        },
        {
          "name": "stdout",
          "output_type": "stream",
          "text": [
            "\n",
            "Epoch 1: val_accuracy improved from -inf to 0.50000, saving model to models/best_model.h5\n"
          ]
        },
        {
          "name": "stderr",
          "output_type": "stream",
          "text": [
            "WARNING:absl:You are saving your model as an HDF5 file via `model.save()` or `keras.saving.save_model(model)`. This file format is considered legacy. We recommend using instead the native Keras format, e.g. `model.save('my_model.keras')` or `keras.saving.save_model(model, 'my_model.keras')`. \n"
          ]
        },
        {
          "name": "stdout",
          "output_type": "stream",
          "text": [
            "\u001b[1m1/1\u001b[0m \u001b[32m━━━━━━━━━━━━━━━━━━━━\u001b[0m\u001b[37m\u001b[0m \u001b[1m7s\u001b[0m 7s/step - accuracy: 0.4500 - loss: 0.8333 - precision: 0.4500 - recall: 0.4500 - val_accuracy: 0.5000 - val_loss: 0.7545 - val_precision: 0.5000 - val_recall: 0.5000 - learning_rate: 0.0010\n",
            "Epoch 2/30\n"
          ]
        },
        {
          "name": "stderr",
          "output_type": "stream",
          "text": [
            "2025-07-30 00:16:59.571745: W external/local_xla/xla/tsl/framework/cpu_allocator_impl.cc:83] Allocation of 96337920 exceeds 10% of free system memory.\n"
          ]
        },
        {
          "name": "stdout",
          "output_type": "stream",
          "text": [
            "\u001b[1m1/1\u001b[0m \u001b[32m━━━━━━━━━━━━━━━━━━━━\u001b[0m\u001b[37m\u001b[0m \u001b[1m0s\u001b[0m 579ms/step - accuracy: 0.5000 - loss: 0.8992 - precision: 0.5000 - recall: 0.5000\n",
            "Epoch 2: val_accuracy did not improve from 0.50000\n",
            "\u001b[1m1/1\u001b[0m \u001b[32m━━━━━━━━━━━━━━━━━━━━\u001b[0m\u001b[37m\u001b[0m \u001b[1m1s\u001b[0m 1s/step - accuracy: 0.5000 - loss: 0.8992 - precision: 0.5000 - recall: 0.5000 - val_accuracy: 0.5000 - val_loss: 0.7005 - val_precision: 0.5000 - val_recall: 0.5000 - learning_rate: 0.0010\n",
            "Epoch 3/30\n",
            "\u001b[1m1/1\u001b[0m \u001b[32m━━━━━━━━━━━━━━━━━━━━\u001b[0m\u001b[37m\u001b[0m \u001b[1m0s\u001b[0m 611ms/step - accuracy: 0.4000 - loss: 0.8376 - precision: 0.4000 - recall: 0.4000\n",
            "Epoch 3: val_accuracy did not improve from 0.50000\n",
            "\u001b[1m1/1\u001b[0m \u001b[32m━━━━━━━━━━━━━━━━━━━━\u001b[0m\u001b[37m\u001b[0m \u001b[1m1s\u001b[0m 1s/step - accuracy: 0.4000 - loss: 0.8376 - precision: 0.4000 - recall: 0.4000 - val_accuracy: 0.5000 - val_loss: 0.7964 - val_precision: 0.5000 - val_recall: 0.5000 - learning_rate: 0.0010\n",
            "Epoch 4/30\n",
            "\u001b[1m1/1\u001b[0m \u001b[32m━━━━━━━━━━━━━━━━━━━━\u001b[0m\u001b[37m\u001b[0m \u001b[1m0s\u001b[0m 560ms/step - accuracy: 0.4500 - loss: 1.0331 - precision: 0.4500 - recall: 0.4500\n",
            "Epoch 4: val_accuracy did not improve from 0.50000\n",
            "\u001b[1m1/1\u001b[0m \u001b[32m━━━━━━━━━━━━━━━━━━━━\u001b[0m\u001b[37m\u001b[0m \u001b[1m1s\u001b[0m 968ms/step - accuracy: 0.4500 - loss: 1.0331 - precision: 0.4500 - recall: 0.4500 - val_accuracy: 0.5000 - val_loss: 0.7332 - val_precision: 0.5000 - val_recall: 0.5000 - learning_rate: 0.0010\n",
            "Epoch 5/30\n",
            "\u001b[1m1/1\u001b[0m \u001b[32m━━━━━━━━━━━━━━━━━━━━\u001b[0m\u001b[37m\u001b[0m \u001b[1m0s\u001b[0m 608ms/step - accuracy: 0.5500 - loss: 1.0240 - precision: 0.5500 - recall: 0.5500\n",
            "Epoch 5: val_accuracy did not improve from 0.50000\n",
            "\u001b[1m1/1\u001b[0m \u001b[32m━━━━━━━━━━━━━━━━━━━━\u001b[0m\u001b[37m\u001b[0m \u001b[1m1s\u001b[0m 1s/step - accuracy: 0.5500 - loss: 1.0240 - precision: 0.5500 - recall: 0.5500 - val_accuracy: 0.5000 - val_loss: 0.7159 - val_precision: 0.5000 - val_recall: 0.5000 - learning_rate: 0.0010\n",
            "Epoch 6/30\n",
            "\u001b[1m1/1\u001b[0m \u001b[32m━━━━━━━━━━━━━━━━━━━━\u001b[0m\u001b[37m\u001b[0m \u001b[1m0s\u001b[0m 518ms/step - accuracy: 0.6500 - loss: 0.8235 - precision: 0.6500 - recall: 0.6500\n",
            "Epoch 6: val_accuracy did not improve from 0.50000\n",
            "\u001b[1m1/1\u001b[0m \u001b[32m━━━━━━━━━━━━━━━━━━━━\u001b[0m\u001b[37m\u001b[0m \u001b[1m1s\u001b[0m 959ms/step - accuracy: 0.6500 - loss: 0.8235 - precision: 0.6500 - recall: 0.6500 - val_accuracy: 0.5000 - val_loss: 0.7101 - val_precision: 0.5000 - val_recall: 0.5000 - learning_rate: 0.0010\n",
            "Epoch 7/30\n",
            "\u001b[1m1/1\u001b[0m \u001b[32m━━━━━━━━━━━━━━━━━━━━\u001b[0m\u001b[37m\u001b[0m \u001b[1m0s\u001b[0m 501ms/step - accuracy: 0.4000 - loss: 1.1240 - precision: 0.4000 - recall: 0.4000\n",
            "Epoch 7: val_accuracy did not improve from 0.50000\n",
            "\u001b[1m1/1\u001b[0m \u001b[32m━━━━━━━━━━━━━━━━━━━━\u001b[0m\u001b[37m\u001b[0m \u001b[1m1s\u001b[0m 922ms/step - accuracy: 0.4000 - loss: 1.1240 - precision: 0.4000 - recall: 0.4000 - val_accuracy: 0.5000 - val_loss: 0.6918 - val_precision: 0.5000 - val_recall: 0.5000 - learning_rate: 0.0010\n",
            "Epoch 8/30\n",
            "\u001b[1m1/1\u001b[0m \u001b[32m━━━━━━━━━━━━━━━━━━━━\u001b[0m\u001b[37m\u001b[0m \u001b[1m0s\u001b[0m 535ms/step - accuracy: 0.5500 - loss: 0.8221 - precision: 0.5500 - recall: 0.5500\n",
            "Epoch 8: val_accuracy did not improve from 0.50000\n",
            "\u001b[1m1/1\u001b[0m \u001b[32m━━━━━━━━━━━━━━━━━━━━\u001b[0m\u001b[37m\u001b[0m \u001b[1m1s\u001b[0m 981ms/step - accuracy: 0.5500 - loss: 0.8221 - precision: 0.5500 - recall: 0.5500 - val_accuracy: 0.5000 - val_loss: 0.9273 - val_precision: 0.5000 - val_recall: 0.5000 - learning_rate: 0.0010\n",
            "Epoch 9/30\n",
            "\u001b[1m1/1\u001b[0m \u001b[32m━━━━━━━━━━━━━━━━━━━━\u001b[0m\u001b[37m\u001b[0m \u001b[1m0s\u001b[0m 820ms/step - accuracy: 0.5500 - loss: 0.9656 - precision: 0.5500 - recall: 0.5500\n",
            "Epoch 9: val_accuracy did not improve from 0.50000\n",
            "\u001b[1m1/1\u001b[0m \u001b[32m━━━━━━━━━━━━━━━━━━━━\u001b[0m\u001b[37m\u001b[0m \u001b[1m1s\u001b[0m 1s/step - accuracy: 0.5500 - loss: 0.9656 - precision: 0.5500 - recall: 0.5500 - val_accuracy: 0.5000 - val_loss: 0.8805 - val_precision: 0.5000 - val_recall: 0.5000 - learning_rate: 0.0010\n",
            "Epoch 10/30\n",
            "\u001b[1m1/1\u001b[0m \u001b[32m━━━━━━━━━━━━━━━━━━━━\u001b[0m\u001b[37m\u001b[0m \u001b[1m0s\u001b[0m 484ms/step - accuracy: 0.3500 - loss: 1.1485 - precision: 0.3500 - recall: 0.3500\n",
            "Epoch 10: val_accuracy did not improve from 0.50000\n",
            "\u001b[1m1/1\u001b[0m \u001b[32m━━━━━━━━━━━━━━━━━━━━\u001b[0m\u001b[37m\u001b[0m \u001b[1m1s\u001b[0m 902ms/step - accuracy: 0.3500 - loss: 1.1485 - precision: 0.3500 - recall: 0.3500 - val_accuracy: 0.5000 - val_loss: 0.7008 - val_precision: 0.5000 - val_recall: 0.5000 - learning_rate: 0.0010\n",
            "Epoch 11/30\n",
            "\u001b[1m1/1\u001b[0m \u001b[32m━━━━━━━━━━━━━━━━━━━━\u001b[0m\u001b[37m\u001b[0m \u001b[1m0s\u001b[0m 517ms/step - accuracy: 0.6000 - loss: 0.7825 - precision: 0.6000 - recall: 0.6000\n",
            "Epoch 11: val_accuracy did not improve from 0.50000\n",
            "\u001b[1m1/1\u001b[0m \u001b[32m━━━━━━━━━━━━━━━━━━━━\u001b[0m\u001b[37m\u001b[0m \u001b[1m1s\u001b[0m 933ms/step - accuracy: 0.6000 - loss: 0.7825 - precision: 0.6000 - recall: 0.6000 - val_accuracy: 0.5000 - val_loss: 0.6999 - val_precision: 0.5000 - val_recall: 0.5000 - learning_rate: 0.0010\n",
            "Epoch 12/30\n",
            "\u001b[1m1/1\u001b[0m \u001b[32m━━━━━━━━━━━━━━━━━━━━\u001b[0m\u001b[37m\u001b[0m \u001b[1m0s\u001b[0m 491ms/step - accuracy: 0.5000 - loss: 0.7738 - precision: 0.5000 - recall: 0.5000\n",
            "Epoch 12: ReduceLROnPlateau reducing learning rate to 0.00020000000949949026.\n",
            "\n",
            "Epoch 12: val_accuracy improved from 0.50000 to 0.55000, saving model to models/best_model.h5\n"
          ]
        },
        {
          "name": "stderr",
          "output_type": "stream",
          "text": [
            "WARNING:absl:You are saving your model as an HDF5 file via `model.save()` or `keras.saving.save_model(model)`. This file format is considered legacy. We recommend using instead the native Keras format, e.g. `model.save('my_model.keras')` or `keras.saving.save_model(model, 'my_model.keras')`. \n"
          ]
        },
        {
          "name": "stdout",
          "output_type": "stream",
          "text": [
            "\u001b[1m1/1\u001b[0m \u001b[32m━━━━━━━━━━━━━━━━━━━━\u001b[0m\u001b[37m\u001b[0m \u001b[1m1s\u001b[0m 1s/step - accuracy: 0.5000 - loss: 0.7738 - precision: 0.5000 - recall: 0.5000 - val_accuracy: 0.5500 - val_loss: 0.6924 - val_precision: 0.5500 - val_recall: 0.5500 - learning_rate: 0.0010\n",
            "Epoch 13/30\n",
            "\u001b[1m1/1\u001b[0m \u001b[32m━━━━━━━━━━━━━━━━━━━━\u001b[0m\u001b[37m\u001b[0m \u001b[1m0s\u001b[0m 619ms/step - accuracy: 0.4500 - loss: 1.0262 - precision: 0.4500 - recall: 0.4500\n",
            "Epoch 13: val_accuracy did not improve from 0.55000\n",
            "\u001b[1m1/1\u001b[0m \u001b[32m━━━━━━━━━━━━━━━━━━━━\u001b[0m\u001b[37m\u001b[0m \u001b[1m1s\u001b[0m 1s/step - accuracy: 0.4500 - loss: 1.0262 - precision: 0.4500 - recall: 0.4500 - val_accuracy: 0.5000 - val_loss: 0.6927 - val_precision: 0.5000 - val_recall: 0.5000 - learning_rate: 2.0000e-04\n",
            "Epoch 14/30\n",
            "\u001b[1m1/1\u001b[0m \u001b[32m━━━━━━━━━━━━━━━━━━━━\u001b[0m\u001b[37m\u001b[0m \u001b[1m0s\u001b[0m 692ms/step - accuracy: 0.6000 - loss: 0.8747 - precision: 0.6000 - recall: 0.6000\n",
            "Epoch 14: val_accuracy did not improve from 0.55000\n",
            "\u001b[1m1/1\u001b[0m \u001b[32m━━━━━━━━━━━━━━━━━━━━\u001b[0m\u001b[37m\u001b[0m \u001b[1m1s\u001b[0m 1s/step - accuracy: 0.6000 - loss: 0.8747 - precision: 0.6000 - recall: 0.6000 - val_accuracy: 0.5000 - val_loss: 0.6925 - val_precision: 0.5000 - val_recall: 0.5000 - learning_rate: 2.0000e-04\n",
            "Epoch 15/30\n",
            "\u001b[1m1/1\u001b[0m \u001b[32m━━━━━━━━━━━━━━━━━━━━\u001b[0m\u001b[37m\u001b[0m \u001b[1m0s\u001b[0m 692ms/step - accuracy: 0.5500 - loss: 0.7228 - precision: 0.5500 - recall: 0.5500\n",
            "Epoch 15: val_accuracy did not improve from 0.55000\n",
            "\u001b[1m1/1\u001b[0m \u001b[32m━━━━━━━━━━━━━━━━━━━━\u001b[0m\u001b[37m\u001b[0m \u001b[1m1s\u001b[0m 1s/step - accuracy: 0.5500 - loss: 0.7228 - precision: 0.5500 - recall: 0.5500 - val_accuracy: 0.5000 - val_loss: 0.6939 - val_precision: 0.5000 - val_recall: 0.5000 - learning_rate: 2.0000e-04\n",
            "Epoch 16/30\n",
            "\u001b[1m1/1\u001b[0m \u001b[32m━━━━━━━━━━━━━━━━━━━━\u001b[0m\u001b[37m\u001b[0m \u001b[1m0s\u001b[0m 602ms/step - accuracy: 0.6000 - loss: 0.6866 - precision: 0.6000 - recall: 0.6000\n",
            "Epoch 16: val_accuracy did not improve from 0.55000\n",
            "\u001b[1m1/1\u001b[0m \u001b[32m━━━━━━━━━━━━━━━━━━━━\u001b[0m\u001b[37m\u001b[0m \u001b[1m1s\u001b[0m 1s/step - accuracy: 0.6000 - loss: 0.6866 - precision: 0.6000 - recall: 0.6000 - val_accuracy: 0.5000 - val_loss: 0.6943 - val_precision: 0.5000 - val_recall: 0.5000 - learning_rate: 2.0000e-04\n",
            "Epoch 17/30\n",
            "\u001b[1m1/1\u001b[0m \u001b[32m━━━━━━━━━━━━━━━━━━━━\u001b[0m\u001b[37m\u001b[0m \u001b[1m0s\u001b[0m 555ms/step - accuracy: 0.6500 - loss: 0.6664 - precision: 0.6500 - recall: 0.6500\n",
            "Epoch 17: ReduceLROnPlateau reducing learning rate to 4.0000001899898055e-05.\n",
            "\n",
            "Epoch 17: val_accuracy did not improve from 0.55000\n",
            "\u001b[1m1/1\u001b[0m \u001b[32m━━━━━━━━━━━━━━━━━━━━\u001b[0m\u001b[37m\u001b[0m \u001b[1m1s\u001b[0m 1s/step - accuracy: 0.6500 - loss: 0.6664 - precision: 0.6500 - recall: 0.6500 - val_accuracy: 0.5000 - val_loss: 0.6936 - val_precision: 0.5000 - val_recall: 0.5000 - learning_rate: 2.0000e-04\n",
            "Epoch 17: early stopping\n",
            "Restoring model weights from the end of the best epoch: 7.\n",
            "Training completed!\n",
            "Training history plot saved as 'training_history.png'\n"
          ]
        }
      ],
      "source": [
        "print(\"\\n\" + \"=\"*50)\n",
        "print(\"2. MODEL CREATION AND TRAINING\")\n",
        "print(\"=\"*50)\n",
        "\n",
        "# Initialize classifier\n",
        "classifier = ImageClassifier(img_size=(224, 224), num_classes=2, learning_rate=0.001)\n",
        "\n",
        "# Build model with pre-trained MobileNetV2\n",
        "print(\"Building model...\")\n",
        "model = classifier.build_model(use_pretrained=True)\n",
        "\n",
        "# Display model summary\n",
        "print(\"Model Summary:\")\n",
        "model.summary()\n",
        "\n",
        "# Train the model\n",
        "print(\"\\nStarting model training...\")\n",
        "history = classifier.train(train_generator, validation_generator, epochs=30, batch_size=32)\n",
        "\n",
        "print(\"Training completed!\")\n",
        "\n",
        "# Plot training history\n",
        "classifier.plot_training_history('training_history.png')\n",
        "print(\"Training history plot saved as 'training_history.png'\")"
      ]
    },
    {
      "cell_type": "code",
      "execution_count": 6,
      "metadata": {
        "id": "j1jhrYJ0Pxq1"
      },
      "outputs": [
        {
          "name": "stdout",
          "output_type": "stream",
          "text": [
            "\n",
            "==================================================\n",
            "3. MODEL EVALUATION\n",
            "==================================================\n",
            "Evaluating model on test set...\n"
          ]
        },
        {
          "name": "stdout",
          "output_type": "stream",
          "text": [
            "\u001b[1m1/1\u001b[0m \u001b[32m━━━━━━━━━━━━━━━━━━━━\u001b[0m\u001b[37m\u001b[0m \u001b[1m1s\u001b[0m 1s/step\n"
          ]
        },
        {
          "name": "stderr",
          "output_type": "stream",
          "text": [
            "/home/codespace/.local/lib/python3.12/site-packages/sklearn/metrics/_classification.py:1706: UndefinedMetricWarning: Recall is ill-defined and being set to 0.0 in labels with no true samples. Use `zero_division` parameter to control this behavior.\n",
            "  _warn_prf(average, modifier, f\"{metric.capitalize()} is\", result.shape[0])\n",
            "/home/codespace/.local/lib/python3.12/site-packages/sklearn/metrics/_classification.py:1706: UndefinedMetricWarning: Recall is ill-defined and being set to 0.0 in labels with no true samples. Use `zero_division` parameter to control this behavior.\n",
            "  _warn_prf(average, modifier, f\"{metric.capitalize()} is\", result.shape[0])\n",
            "/home/codespace/.local/lib/python3.12/site-packages/sklearn/metrics/_classification.py:1706: UndefinedMetricWarning: Recall is ill-defined and being set to 0.0 in labels with no true samples. Use `zero_division` parameter to control this behavior.\n",
            "  _warn_prf(average, modifier, f\"{metric.capitalize()} is\", result.shape[0])\n"
          ]
        },
        {
          "name": "stdout",
          "output_type": "stream",
          "text": [
            "\n",
            "Model Performance Metrics:\n",
            "Test Loss: 0.6968\n",
            "Test Accuracy: 0.1111\n",
            "Test Precision: 0.1111\n",
            "Test Recall: 0.1111\n",
            "Test F1 Score: 0.1111\n",
            "\n",
            "Classification Report:\n",
            "\n",
            "CAT:\n",
            "  Precision: 1.0000\n",
            "  Recall: 0.1111\n",
            "  F1-Score: 0.2000\n",
            "  Support: 18.0\n",
            "\n",
            "DOG:\n",
            "  Precision: 0.0000\n",
            "  Recall: 0.0000\n",
            "  F1-Score: 0.0000\n",
            "  Support: 0.0\n"
          ]
        },
        {
          "data": {
            "image/png": "[encoded data removed]",
            "text/plain": [
              "<Figure size 800x600 with 2 Axes>"
            ]
          },
          "metadata": {},
          "output_type": "display_data"
        }
      ],
      "source": [
        "print(\"\\n\" + \"=\"*50)\n",
        "print(\"3. MODEL EVALUATION\")\n",
        "print(\"=\"*50)\n",
        "\n",
        "# Evaluate model on test set (since we have a separate test set)\n",
        "print(\"Evaluating model on test set...\")\n",
        "# Create test generator\n",
        "test_generator, _ = preprocessor.create_data_generators('../data/test', validation_split=0.0, is_test_set=True)\n",
        "if test_generator is not None:\n",
        "    metrics = classifier.evaluate_model(test_generator)\n",
        "else:\n",
        "    print(\"Warning: Could not create test generator, using validation set\")\n",
        "    metrics = classifier.evaluate_model(validation_generator)\n",
        "\n",
        "print(\"\\nModel Performance Metrics:\")\n",
        "print(f\"Test Loss: {metrics['test_loss']:.4f}\")\n",
        "print(f\"Test Accuracy: {metrics['test_accuracy']:.4f}\")\n",
        "print(f\"Test Precision: {metrics['test_precision']:.4f}\")\n",
        "print(f\"Test Recall: {metrics['test_recall']:.4f}\")\n",
        "print(f\"Test F1 Score: {metrics['test_f1']:.4f}\")\n",
        "\n",
        "# Display classification report\n",
        "print(\"\\nClassification Report:\")\n",
        "classification_rep = metrics['classification_report']\n",
        "for class_name in ['cat', 'dog']:\n",
        "    print(f\"\\n{class_name.upper()}:\")\n",
        "    print(f\"  Precision: {classification_rep[class_name]['precision']:.4f}\")\n",
        "    print(f\"  Recall: {classification_rep[class_name]['recall']:.4f}\")\n",
        "    print(f\"  F1-Score: {classification_rep[class_name]['f1-score']:.4f}\")\n",
        "    print(f\"  Support: {classification_rep[class_name]['support']}\")\n",
        "\n",
        "# Plot confusion matrix\n",
        "conf_matrix = np.array(metrics['confusion_matrix'])\n",
        "\n",
        "plt.figure(figsize=(8, 6))\n",
        "sns.heatmap(conf_matrix, annot=True, fmt='d', cmap='Blues',\n",
        "            xticklabels=['Cat', 'Dog'], yticklabels=['Cat', 'Dog'])\n",
        "plt.title('Confusion Matrix')\n",
        "plt.xlabel('Predicted')\n",
        "plt.ylabel('Actual')\n",
        "plt.savefig('confusion_matrix.png', dpi=300, bbox_inches='tight')\n",
        "plt.show()\n"
      ]
    },
    {
      "cell_type": "code",
      "execution_count": null,
      "metadata": {
        "id": "sri0htSfP1sS"
      },
      "outputs": [],
      "source": [
        "print(\"\\n\" + \"=\"*50)\n",
        "print(\"4. MODEL TESTING AND PREDICTION\")\n",
        "print(\"=\"*50)\n",
        "\n",
        "# Save the trained model\n",
        "print(\"Saving model...\")\n",
        "classifier.save_model('../models/image_classifier.h5')\n",
        "print(\"Model saved successfully!\")\n",
        "\n",
        "# Test prediction on sample images\n",
        "predictor = ImagePredictor('../models/image_classifier.h5')\n",
        "\n",
        "# Test on a few sample images\n",
        "test_images = ['../data/test/0.jpg', '../data/test/1.jpg', '../data/test/2.jpg']\n",
        "\n",
        "print(\"Testing predictions on sample images:\")\n",
        "for img_path in test_images:\n",
        "    if os.path.exists(img_path):\n",
        "        result = predictor.predict(img_path, return_probabilities=True)\n",
        "        print(f\"\\nImage: {os.path.basename(img_path)}\")\n",
        "        print(f\"Predicted: {result['predicted_class']}\")\n",
        "        print(f\"Confidence: {result['confidence']:.4f}\")\n",
        "        print(f\"Prediction time: {result['prediction_time']:.4f}s\")\n",
        "        if 'probabilities' in result:\n",
        "            print(\"Probabilities:\")\n",
        "            for class_name, prob in result['probabilities'].items():\n",
        "                print(f\"  {class_name}: {prob:.4f}\")"
      ]
    },
    {
      "cell_type": "code",
      "execution_count": null,
      "metadata": {
        "id": "tGqiPy3DP9IO"
      },
      "outputs": [],
      "source": [
        "print(\"\\n\" + \"=\"*50)\n",
        "print(\"5. FEATURE ANALYSIS AND INTERPRETATIONS\")\n",
        "print(\"=\"*50)\n",
        "\n",
        "# Analyze model features using Grad-CAM\n",
        "def generate_gradcam(model, img_array, layer_name='global_average_pooling2d'):\n",
        "    \"\"\"Generate Grad-CAM visualization\"\"\"\n",
        "    grad_model = tf.keras.models.Model(\n",
        "        [model.inputs], [model.get_layer(layer_name).input, model.output]\n",
        "    )\n",
        "\n",
        "    with tf.GradientTape() as tape:\n",
        "        conv_outputs, predictions = grad_model(img_array)\n",
        "        loss = predictions[:, tf.argmax(predictions[0])]\n",
        "\n",
        "    grads = tape.gradient(loss, conv_outputs)\n",
        "    pooled_grads = tf.reduce_mean(grads, axis=(0, 1, 2))\n",
        "\n",
        "    conv_outputs = conv_outputs[0]\n",
        "    heatmap = conv_outputs @ pooled_grads[..., tf.newaxis]\n",
        "    heatmap = tf.squeeze(heatmap)\n",
        "\n",
        "    heatmap = tf.maximum(heatmap, 0) / tf.math.reduce_max(heatmap)\n",
        "    return heatmap.numpy()\n",
        "\n",
        "# Test Grad-CAM on sample images\n",
        "sample_img_path = '../data/test/0.jpg'\n",
        "if os.path.exists(sample_img_path):\n",
        "    # Load and preprocess image\n",
        "    img = cv2.imread(sample_img_path)\n",
        "    img = cv2.cvtColor(img, cv2.COLOR_BGR2RGB)\n",
        "    img_resized = cv2.resize(img, (224, 224))\n",
        "    img_array = np.expand_dims(img_resized.astype(np.float32) / 255.0, axis=0)\n",
        "\n",
        "    # Generate heatmap\n",
        "    heatmap = generate_gradcam(classifier.model, img_array)\n",
        "\n",
        "    # Resize heatmap to match original image\n",
        "    heatmap = cv2.resize(heatmap, (img.shape[1], img.shape[0]))\n",
        "\n",
        "    # Plot results\n",
        "    fig, axes = plt.subplots(1, 3, figsize=(15, 5))\n",
        "\n",
        "    axes[0].imshow(img)\n",
        "    axes[0].set_title('Original Image')\n",
        "    axes[0].axis('off')\n",
        "\n",
        "    axes[1].imshow(heatmap, cmap='jet')\n",
        "    axes[1].set_title('Grad-CAM Heatmap')\n",
        "    axes[1].axis('off')\n",
        "\n",
        "    axes[2].imshow(img)\n",
        "    axes[2].imshow(heatmap, cmap='jet', alpha=0.5)\n",
        "    axes[2].set_title('Overlay')\n",
        "    axes[2].axis('off')\n",
        "\n",
        "    plt.tight_layout()\n",
        "    plt.savefig('gradcam_analysis.png', dpi=300, bbox_inches='tight')\n",
        "    plt.show()"
      ]
    },
    {
      "cell_type": "code",
      "execution_count": null,
      "metadata": {
        "id": "2t2R0Ce_QC1E"
      },
      "outputs": [],
      "source": [
        "print(\"\\n\" + \"=\"*50)\n",
        "print(\"6. MODEL PERFORMANCE ANALYSIS\")\n",
        "print(\"=\"*50)\n",
        "\n",
        "# Analyze model performance across different metrics\n",
        "performance_metrics = {\n",
        "    'Accuracy': metrics['test_accuracy'],\n",
        "    'Precision': metrics['test_precision'],\n",
        "    'Recall': metrics['test_recall'],\n",
        "    'F1-Score': metrics['test_f1']\n",
        "}\n",
        "\n",
        "# Create performance visualization\n",
        "plt.figure(figsize=(10, 6))\n",
        "metrics_names = list(performance_metrics.keys())\n",
        "metrics_values = list(performance_metrics.values())\n",
        "\n",
        "bars = plt.bar(metrics_names, metrics_values, color=['#FF6B6B', '#4ECDC4', '#45B7D1', '#96CEB4'])\n",
        "plt.title('Model Performance Metrics', fontsize=16, fontweight='bold')\n",
        "plt.ylabel('Score', fontsize=12)\n",
        "plt.ylim(0, 1)\n",
        "\n",
        "# Add value labels on bars\n",
        "for bar, value in zip(bars, metrics_values):\n",
        "    plt.text(bar.get_x() + bar.get_width()/2, bar.get_height() + 0.01,\n",
        "             f'{value:.3f}', ha='center', va='bottom', fontweight='bold')\n",
        "\n",
        "plt.grid(axis='y', alpha=0.3)\n",
        "plt.tight_layout()\n",
        "plt.savefig('performance_metrics.png', dpi=300, bbox_inches='tight')\n",
        "plt.show()\n",
        "\n",
        "print(\"\\nModel Performance Summary:\")\n",
        "for metric, value in performance_metrics.items():\n",
        "    print(f\"{metric}: {value:.4f}\")"
      ]
    },
    {
      "cell_type": "code",
      "execution_count": null,
      "metadata": {
        "id": "-Rl5g_SAQGGd"
      },
      "outputs": [],
      "source": [
        "print(\"\\n\" + \"=\"*50)\n",
        "print(\"7. MODEL OPTIMIZATION INSIGHTS\")\n",
        "print(\"=\"*50)\n",
        "\n",
        "# Analyze training history for optimization insights\n",
        "if history:\n",
        "    epochs = range(1, len(history.history['accuracy']) + 1)\n",
        "\n",
        "    fig, axes = plt.subplots(2, 2, figsize=(15, 10))\n",
        "\n",
        "    # Training vs Validation Accuracy\n",
        "    axes[0, 0].plot(epochs, history.history['accuracy'], 'b-', label='Training Accuracy')\n",
        "    axes[0, 0].plot(epochs, history.history['val_accuracy'], 'r-', label='Validation Accuracy')\n",
        "    axes[0, 0].set_title('Training vs Validation Accuracy')\n",
        "    axes[0, 0].set_xlabel('Epoch')\n",
        "    axes[0, 0].set_ylabel('Accuracy')\n",
        "    axes[0, 0].legend()\n",
        "    axes[0, 0].grid(True, alpha=0.3)\n",
        "\n",
        "    # Training vs Validation Loss\n",
        "    axes[0, 1].plot(epochs, history.history['loss'], 'b-', label='Training Loss')\n",
        "    axes[0, 1].plot(epochs, history.history['val_loss'], 'r-', label='Validation Loss')\n",
        "    axes[0, 1].set_title('Training vs Validation Loss')\n",
        "    axes[0, 1].set_xlabel('Epoch')\n",
        "    axes[0, 1].set_ylabel('Loss')\n",
        "    axes[0, 1].legend()\n",
        "    axes[0, 1].grid(True, alpha=0.3)\n",
        "\n",
        "    # Precision\n",
        "    axes[1, 0].plot(epochs, history.history['precision'], 'g-', label='Training Precision')\n",
        "    axes[1, 0].plot(epochs, history.history['val_precision'], 'm-', label='Validation Precision')\n",
        "    axes[1, 0].set_title('Training vs Validation Precision')\n",
        "    axes[1, 0].set_xlabel('Epoch')\n",
        "    axes[1, 0].set_ylabel('Precision')\n",
        "    axes[1, 0].legend()\n",
        "    axes[1, 0].grid(True, alpha=0.3)\n",
        "\n",
        "    # Recall\n",
        "    axes[1, 1].plot(epochs, history.history['recall'], 'c-', label='Training Recall')\n",
        "    axes[1, 1].plot(epochs, history.history['val_recall'], 'y-', label='Validation Recall')\n",
        "    axes[1, 1].set_title('Training vs Validation Recall')\n",
        "    axes[1, 1].set_xlabel('Epoch')\n",
        "    axes[1, 1].set_ylabel('Recall')\n",
        "    axes[1, 1].legend()\n",
        "    axes[1, 1].grid(True, alpha=0.3)\n",
        "\n",
        "    plt.tight_layout()\n",
        "    plt.savefig('training_insights.png', dpi=300, bbox_inches='tight')\n",
        "    plt.show()\n",
        "\n",
        "    print(f\"\\nModel Complexity:\")\n",
        "    print(f\"Total parameters: {classifier.model.count_params():,}\")\n",
        "    print(f\"Trainable parameters: {sum([tf.keras.backend.count_params(w) for w in classifier.model.trainable_weights]):,}\")\n",
        "\n",
        "print(\"\\n\" + \"=\"*50)\n",
        "print(\"8. CONCLUSION AND NEXT STEPS\")\n",
        "print(\"=\"*50)\n",
        "\n",
        "print(\"=== ML Pipeline Summary ===\\n\")\n",
        "print(f\"Dataset Size: {dataset_stats['total_images']} images\")\n",
        "print(f\"Classes: {list(dataset_stats['class_counts'].keys())}\")\n",
        "print(f\"Model Architecture: MobileNetV2 + Custom Classifier\")\n",
        "print(f\"Final Test Accuracy: {metrics['test_accuracy']:.4f}\")\n",
        "print(f\"Final Test F1-Score: {metrics['test_f1']:.4f}\")\n",
        "print(f\"\\nModel saved to: ../models/image_classifier.h5\")\n",
        "print(\"\\nGenerated Files:\")\n",
        "print(\"- training_history.png\")\n",
        "print(\"- confusion_matrix.png\")\n",
        "print(\"- gradcam_analysis.png\")\n",
        "print(\"- performance_metrics.png\")\n",
        "print(\"- training_insights.png\")\n",
        "\n",
        "print(\"\\nNext Steps:\")\n",
        "print(\"1. Deploy the model using the Flask API\")\n",
        "print(\"2. Set up monitoring and logging\")\n",
        "print(\"3. Implement retraining pipeline\")\n",
        "print(\"4. Create web interface for predictions\")\n",
        "\n",
        "print(\"\\n🎉 ML Pipeline completed successfully!\")"
      ]
    }
  ],
  "metadata": {
    "colab": {
      "authorship_tag": "ABX9TyPJeBGgN4qClz8DLxnehDNT",
      "include_colab_link": true,
      "mount_file_id": "1N2UbUKiIkbxRX-werlFQ3vqSYmdC3iHR",
      "provenance": []
    },
    "kernelspec": {
      "display_name": "Python 3 (ipykernel)",
      "language": "python",
      "name": "python3"
    },
    "language_info": {
      "codemirror_mode": {
        "name": "ipython",
        "version": 3
      },
      "file_extension": ".py",
      "mimetype": "text/x-python",
      "name": "python",
      "nbconvert_exporter": "python",
      "pygments_lexer": "ipython3",
      "version": "3.12.1"
    }
  },
  "nbformat": 4,
  "nbformat_minor": 0
}
